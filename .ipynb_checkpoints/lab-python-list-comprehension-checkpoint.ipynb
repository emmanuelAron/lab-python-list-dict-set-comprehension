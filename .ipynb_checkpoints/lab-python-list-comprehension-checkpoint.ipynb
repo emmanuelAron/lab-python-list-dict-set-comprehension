{
 "cells": [
  {
   "cell_type": "markdown",
   "id": "25d7736c-ba17-4aff-b6bb-66eba20fbf4e",
   "metadata": {},
   "source": [
    "# Lab | List, Dict and Set Comprehension"
   ]
  },
  {
   "cell_type": "markdown",
   "id": "7dd3cbde-675a-4b81-92c3-f728846dbe06",
   "metadata": {},
   "source": [
    "## Exercise: Managing Customer Orders Optimized with Comprehension"
   ]
  },
  {
   "cell_type": "markdown",
   "id": "5d500160-2fb7-4777-b5e4-09d45ebaf328",
   "metadata": {},
   "source": [
    "In the previous exercise, you developed a program to manage customer orders and inventory. Now, let's take it a step further and incorporate comprehension into your code.\n",
    "\n",
    "Follow the steps below to complete the exercise:\n",
    "\n",
    "1. Review your code from the previous exercise and identify areas where you can apply comprehension to simplify and streamline your code. \n",
    "\n",
    "    - *Hint: Apply it to initialize inventory, updating the inventory and printing the updated inventory.*\n",
    "    \n",
    "    - For example, in initializing the inventory, we could have:\n",
    "    \n",
    "        ```python\n",
    "        def initialize_inventory(products):\n",
    "            inventory = {product: int(input(f\"Enter the quantity of {product}s available: \")) for product in products}\n",
    "            return inventory\n",
    "\n",
    "        ```\n",
    "<br>\n",
    "    \n",
    "    \n",
    "2. Modify the function get_customer_orders so it prompts the user to enter the number of customer orders and gathers the product names using a loop and user input. Use comprehension.\n",
    "\n",
    "3. Add a new function to calculate the total price of the customer order. For each product in customer_orders, prompt the user to enter the price of that product. Use comprehension to calculate the total price. Note: assume that the user can only have 1 unit of each product.\n",
    "\n",
    "4. Modify the update_inventory function to remove the product from the inventory if its quantity becomes zero after fulfilling the customer orders. Use comprehension to filter out the products with a quantity of zero from the inventory.\n",
    "\n",
    "5. Print the total price of the customer order.\n",
    "\n",
    "Your code should produce output similar to the following:\n",
    "\n",
    "```python\n",
    "Enter the quantity of t-shirts available:  5\n",
    "Enter the quantity of mugs available:  4\n",
    "Enter the quantity of hats available:  3\n",
    "Enter the quantity of books available:  2\n",
    "Enter the quantity of keychains available:  1\n",
    "Enter the number of customer orders:  2\n",
    "Enter the name of a product that a customer wants to order:  hat\n",
    "Enter the name of a product that a customer wants to order:  keychain\n",
    "\n",
    "Order Statistics:\n",
    "Total Products Ordered: 2\n",
    "Percentage of Unique Products Ordered: 40.0\n",
    "\n",
    "Updated Inventory:\n",
    "t-shirt: 5\n",
    "mug: 4\n",
    "hat: 2\n",
    "book: 2\n",
    "Enter the price of keychain:  5\n",
    "Enter the price of hat:  10\n",
    "Total Price: 15.0\n",
    "\n",
    "```\n"
   ]
  },
  {
   "cell_type": "code",
   "execution_count": 50,
   "id": "671a0164-c674-4649-8ded-1584bf348243",
   "metadata": {},
   "outputs": [
    {
     "name": "stdin",
     "output_type": "stream",
     "text": [
      "Enter the quantity of t-shirts available:  5\n",
      "Enter the quantity of mugs available:  4\n",
      "Enter the quantity of hats available:  3\n",
      "Enter the quantity of books available:  2\n",
      "Enter the quantity of keychains available:  1\n",
      "Enter the number of customer orders: 3\n",
      "What do you want to order? hat\n",
      "What do you want to order? eee\n",
      "What do you want to order? mug\n"
     ]
    },
    {
     "name": "stdout",
     "output_type": "stream",
     "text": [
      "Enter the name of a product that a customer wants to order: hat\n",
      "Enter the name of a product that a customer wants to order: mug\n",
      "Order Statistics:\n",
      "Total Products Ordered: 2\n",
      "Percentage of Unique Products Ordered: 40.0%\n",
      "t-shirt : 4\n",
      "mug : 3\n",
      "hat : 2\n",
      "book : 1\n"
     ]
    }
   ],
   "source": [
    "\n",
    "products = [\"t-shirt\", \"mug\", \"hat\", \"book\", \"keychain\"]\n",
    "\n",
    "#Question 1\n",
    "def initialize_inventory(products):\n",
    "    inventory = {product: int(input(f\"Enter the quantity of {product}s available: \")) for product in products}\n",
    "    return inventory\n",
    "\n",
    "inventory = initialize_inventory(products)\n",
    "\n",
    "#initialize_inventory(products)\n",
    "# Result of init inventory : {'t-shirt': 2, 'mug': 3, 'hat': 4, 'book': 5, 'keychain': 1}\n",
    "\n",
    "#customer_orders = set()\n",
    "# Question 2 \n",
    "# Modify the function get_customer_orders so it prompts the user to enter the number\n",
    "# of customer orders and gathers the product names using a loop and user input. Use comprehension.\n",
    "def get_customer_orders():\n",
    "    orders = int(input(\"Enter the number of customer orders:\"))  \n",
    "    myorders = [input(\"What do you want to order?\") for i in range(orders)]\n",
    "    validOrders = [order for order in myorders if order in inventory] \n",
    "    for order in validOrders:\n",
    "        print(f\"Enter the name of a product that a customer wants to order: {order}\")\n",
    "    return validOrders\n",
    "validOrders = get_customer_orders()\n",
    "#print(number_valid_Orders)\n",
    "\n",
    "# Question 3\n",
    "# Add a new function to calculate the total price of the customer order. For each product in customer_orders,\n",
    "# prompt the user to enter the price of that product. \n",
    "# Use comprehension to calculate the total price. Note: assume that the user can only have 1 unit of each product.\n",
    "#3-a\n",
    "\n",
    "#def calculateTotalPrice():\n",
    "#    total_price = sum([float(input(f\"Enter the price for {product}: \")) for product in customer_orders])\n",
    "#    return total_price\n",
    "#totalPrice = calculateTotalPrice()\n",
    "#totalPrice  \n",
    "\n",
    "#3-b\n",
    "def print_order_statistics():\n",
    "    percentage_ordered = (len(validOrders) / len(products)) * 100\n",
    "    print(\"Order Statistics:\")\n",
    "    print(f\"Total Products Ordered: {len(validOrders)}\")\n",
    "    print(f\"Percentage of Unique Products Ordered: {percentage_ordered}%\")\n",
    "print_order_statistics()\n",
    "\n",
    "#4 Modify the update_inventory function to remove the product from the inventory if its quantity becomes zero after fulfilling the customer orders. \n",
    "# Use comprehension to filter out the products with a quantity of zero from the inventory.\n",
    "def update_inventory(validOrders , inventory):\n",
    "    return {key:value-1 for (key,value) in inventory.items() if value-1>0}\n",
    "\n",
    "updated = update_inventory(validOrders,inventory)\n",
    "print(\"Updated Inventory:\")\n",
    "for product,qtity in updated.items():\n",
    "    print(f\"{product} : {qtity}\")\n",
    "\n",
    "# 5. Print the total price of the customer order.\n",
    "def calculateTotalPrice():\n",
    "    total_price = sum([float(input(f\"Enter the price for {product}: \")) for product in validOrders])\n",
    "    return total_price\n",
    "totalPrice = calculateTotalPrice()\n",
    "totalPrice  "
   ]
  },
  {
   "cell_type": "code",
   "execution_count": 34,
   "id": "28a2e3a1-df9b-4280-a92d-397c40ceca30",
   "metadata": {},
   "outputs": [
    {
     "name": "stdout",
     "output_type": "stream",
     "text": [
      "{'t-shirt': 4, 'mug': 3, 'hat': 2, 'book': 1, 'keychain': 0}\n"
     ]
    }
   ],
   "source": [
    "def update_inventory(validOrders , inventory):\n",
    "    return {key:value-1 for (key,value) in inventory.items()}\n",
    "\n",
    "updated = update_inventory(validOrders,inventory)\n",
    "print(updated)"
   ]
  },
  {
   "cell_type": "code",
   "execution_count": 36,
   "id": "9c3f7aba-ace9-44a9-bb52-eb5f5b45ab6e",
   "metadata": {},
   "outputs": [
    {
     "name": "stdout",
     "output_type": "stream",
     "text": [
      "t-shirt : 4\n",
      "mug : 3\n",
      "hat : 2\n",
      "book : 1\n",
      "keychain : 0\n"
     ]
    }
   ],
   "source": [
    "updated = update_inventory(validOrders,inventory)\n",
    "for product,qtity in updated.items():\n",
    "    print(f\"{product} : {qtity}\")"
   ]
  },
  {
   "cell_type": "code",
   "execution_count": 46,
   "id": "ea6c1cc3-5a0c-466a-b6bb-8d4fc144c41b",
   "metadata": {},
   "outputs": [],
   "source": [
    "def update_inventory(validOrders , inventory):\n",
    "    return {key:value-1 for (key,value) in inventory.items() if value-1>0}\n",
    "\n",
    "updated = update_inventory(validOrders,inventory)"
   ]
  },
  {
   "cell_type": "code",
   "execution_count": 48,
   "id": "33d42144-8357-4c3e-b320-2dab2153078b",
   "metadata": {},
   "outputs": [
    {
     "data": {
      "text/plain": [
       "{'t-shirt': 4, 'mug': 3, 'hat': 2, 'book': 1}"
      ]
     },
     "execution_count": 48,
     "metadata": {},
     "output_type": "execute_result"
    }
   ],
   "source": [
    "updated"
   ]
  },
  {
   "cell_type": "code",
   "execution_count": 56,
   "id": "34fe5e6b-fee5-4b20-adf5-d5449719fc59",
   "metadata": {},
   "outputs": [
    {
     "name": "stdin",
     "output_type": "stream",
     "text": [
      "Enter the price of keychain: 14\n",
      "Enter the price of keychain: 22\n"
     ]
    }
   ],
   "source": [
    "for price in validOrders:\n",
    "    price = float(input(f\"Enter the price of keychain:\"))"
   ]
  },
  {
   "cell_type": "code",
   "execution_count": 62,
   "id": "86fd7ae1-870b-4ba3-9d34-9377eab6859c",
   "metadata": {},
   "outputs": [
    {
     "name": "stdin",
     "output_type": "stream",
     "text": [
      "Enter the price for hat:  12\n",
      "Enter the price for mug:  41\n"
     ]
    },
    {
     "data": {
      "text/plain": [
       "53.0"
      ]
     },
     "execution_count": 62,
     "metadata": {},
     "output_type": "execute_result"
    }
   ],
   "source": [
    "def calculateTotalPrice():\n",
    "    total_price = sum([float(input(f\"Enter the price for {product}: \")) for product in validOrders])\n",
    "    return total_price\n",
    "totalPrice = calculateTotalPrice()\n",
    "totalPrice  "
   ]
  },
  {
   "cell_type": "code",
   "execution_count": null,
   "id": "444485c3-9aab-4a4c-a7e2-ef950136c7af",
   "metadata": {},
   "outputs": [],
   "source": []
  }
 ],
 "metadata": {
  "kernelspec": {
   "display_name": "Python 3 (ipykernel)",
   "language": "python",
   "name": "python3"
  },
  "language_info": {
   "codemirror_mode": {
    "name": "ipython",
    "version": 3
   },
   "file_extension": ".py",
   "mimetype": "text/x-python",
   "name": "python",
   "nbconvert_exporter": "python",
   "pygments_lexer": "ipython3",
   "version": "3.11.5"
  }
 },
 "nbformat": 4,
 "nbformat_minor": 5
}
